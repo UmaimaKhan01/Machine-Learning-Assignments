{
  "nbformat": 4,
  "nbformat_minor": 0,
  "metadata": {
    "colab": {
      "provenance": []
    },
    "kernelspec": {
      "name": "python3",
      "display_name": "Python 3"
    },
    "language_info": {
      "name": "python"
    }
  },
  "cells": [
    {
      "cell_type": "code",
      "source": [
        "import pandas as pd\n",
        "import numpy as np\n",
        "\n",
        "# Load the data\n",
        "train_data = pd.read_csv('census-income.data', header=None)\n",
        "test_data = pd.read_csv('census-income.test', header=None)\n",
        "\n",
        "# Rename the last column to 'income'\n",
        "train_data.rename(columns={train_data.columns[-1]: 'income'}, inplace=True)\n",
        "test_data.rename(columns={test_data.columns[-1]: 'income'}, inplace=True)\n",
        "\n",
        "# (a) People with income > 50K in training data\n",
        "train_high_income = (train_data['income'] == ' 50000+.').sum()\n",
        "print(f\"(a) People with income > 50K in training data: {train_high_income}\")\n",
        "\n",
        "# (b) People with income > 50K in testing data\n",
        "test_high_income = (test_data['income'] == ' 50000+.').sum()\n",
        "print(f\"(b) People with income > 50K in testing data: {test_high_income}\")\n",
        "\n",
        "# (c) Asian or Pacific Islander in testing data\n",
        "asian_pacific = (test_data[10] == ' Asian or Pacific Islander').sum()\n",
        "print(f\"(c) Asian or Pacific Islander in testing data: {asian_pacific}\")\n",
        "\n",
        "# (d) Average age of people with > 50K income in training data\n",
        "train_high_income_age = train_data[train_data['income'] == ' 50000+.'][0].mean()\n",
        "print(f\"(d) Average age of people with > 50K income in training data: {train_high_income_age:.2f}\")\n",
        "\n",
        "# (e) Average age of people with > 50K income in testing data\n",
        "test_high_income_age = test_data[test_data['income'] == ' 50000+.'][0].mean()\n",
        "print(f\"(e) Average age of people with > 50K income in testing data: {test_high_income_age:.2f}\")\n"
      ],
      "metadata": {
        "colab": {
          "base_uri": "https://localhost:8080/"
        },
        "id": "YMFCAW67uLSf",
        "outputId": "534b0d66-85bb-40e0-b925-bc0915bc1a4e"
      },
      "execution_count": 14,
      "outputs": [
        {
          "output_type": "stream",
          "name": "stdout",
          "text": [
            "(a) People with income > 50K in training data: 12382\n",
            "(b) People with income > 50K in testing data: 6186\n",
            "(c) Asian or Pacific Islander in testing data: 2913\n",
            "(d) Average age of people with > 50K income in training data: 46.27\n",
            "(e) Average age of people with > 50K income in testing data: 46.57\n"
          ]
        }
      ]
    },
    {
      "cell_type": "code",
      "source": [],
      "metadata": {
        "id": "eBrty4wuuQId"
      },
      "execution_count": null,
      "outputs": []
    }
  ]
}